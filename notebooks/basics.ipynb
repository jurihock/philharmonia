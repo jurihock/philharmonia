{
 "cells": [
  {
   "cell_type": "markdown",
   "metadata": {},
   "source": [
    "# Philharmonia basics"
   ]
  },
  {
   "cell_type": "code",
   "execution_count": 1,
   "metadata": {},
   "outputs": [],
   "source": [
    "import sys\n",
    "sys.path.append('..')"
   ]
  },
  {
   "cell_type": "code",
   "execution_count": 2,
   "metadata": {},
   "outputs": [],
   "source": [
    "import warnings\n",
    "warnings.simplefilter('ignore', UserWarning)"
   ]
  },
  {
   "cell_type": "code",
   "execution_count": 3,
   "metadata": {},
   "outputs": [],
   "source": [
    "import IPython.display as display\n",
    "import librosa\n",
    "import matplotlib.pyplot as plot\n",
    "import numpy as np\n",
    "\n",
    "from philharmonia import dataframe, datafile"
   ]
  },
  {
   "cell_type": "markdown",
   "metadata": {},
   "source": [
    "## Load data"
   ]
  },
  {
   "cell_type": "code",
   "execution_count": 4,
   "metadata": {},
   "outputs": [
    {
     "data": {
      "text/html": [
       "<div>\n",
       "<style scoped>\n",
       "    .dataframe tbody tr th:only-of-type {\n",
       "        vertical-align: middle;\n",
       "    }\n",
       "\n",
       "    .dataframe tbody tr th {\n",
       "        vertical-align: top;\n",
       "    }\n",
       "\n",
       "    .dataframe thead th {\n",
       "        text-align: right;\n",
       "    }\n",
       "</style>\n",
       "<table border=\"1\" class=\"dataframe\">\n",
       "  <thead>\n",
       "    <tr style=\"text-align: right;\">\n",
       "      <th></th>\n",
       "      <th>Unnamed: 0</th>\n",
       "      <th>file</th>\n",
       "      <th>bytes</th>\n",
       "      <th>name</th>\n",
       "      <th>instrument</th>\n",
       "      <th>percussion</th>\n",
       "      <th>note</th>\n",
       "      <th>octave</th>\n",
       "      <th>pitch</th>\n",
       "      <th>length</th>\n",
       "      <th>dynamic</th>\n",
       "      <th>style</th>\n",
       "    </tr>\n",
       "  </thead>\n",
       "  <tbody>\n",
       "    <tr>\n",
       "      <th>0</th>\n",
       "      <td>0</td>\n",
       "      <td>cello/cello_F2_phrase_mezzo-forte_arco-detache...</td>\n",
       "      <td>186722</td>\n",
       "      <td>cello_F2_phrase_mezzo-forte_arco-detache</td>\n",
       "      <td>cello</td>\n",
       "      <td>False</td>\n",
       "      <td>F</td>\n",
       "      <td>2.0</td>\n",
       "      <td>87.31</td>\n",
       "      <td>phrase</td>\n",
       "      <td>mezzo-forte</td>\n",
       "      <td>arco-detache</td>\n",
       "    </tr>\n",
       "    <tr>\n",
       "      <th>1</th>\n",
       "      <td>1</td>\n",
       "      <td>cello/cello_As2_05_forte_arco-normal.mp3</td>\n",
       "      <td>12119</td>\n",
       "      <td>cello_As2_05_forte_arco-normal</td>\n",
       "      <td>cello</td>\n",
       "      <td>False</td>\n",
       "      <td>A#</td>\n",
       "      <td>2.0</td>\n",
       "      <td>116.54</td>\n",
       "      <td>05</td>\n",
       "      <td>forte</td>\n",
       "      <td>arco-normal</td>\n",
       "    </tr>\n",
       "    <tr>\n",
       "      <th>2</th>\n",
       "      <td>2</td>\n",
       "      <td>cello/cello_F5_15_fortissimo_arco-normal.mp3</td>\n",
       "      <td>23091</td>\n",
       "      <td>cello_F5_15_fortissimo_arco-normal</td>\n",
       "      <td>cello</td>\n",
       "      <td>False</td>\n",
       "      <td>F</td>\n",
       "      <td>5.0</td>\n",
       "      <td>698.46</td>\n",
       "      <td>15</td>\n",
       "      <td>fortissimo</td>\n",
       "      <td>arco-normal</td>\n",
       "    </tr>\n",
       "    <tr>\n",
       "      <th>3</th>\n",
       "      <td>3</td>\n",
       "      <td>cello/cello_D5_025_pianissimo_arco-normal.mp3</td>\n",
       "      <td>7732</td>\n",
       "      <td>cello_D5_025_pianissimo_arco-normal</td>\n",
       "      <td>cello</td>\n",
       "      <td>False</td>\n",
       "      <td>D</td>\n",
       "      <td>5.0</td>\n",
       "      <td>587.33</td>\n",
       "      <td>025</td>\n",
       "      <td>pianissimo</td>\n",
       "      <td>arco-normal</td>\n",
       "    </tr>\n",
       "    <tr>\n",
       "      <th>4</th>\n",
       "      <td>4</td>\n",
       "      <td>cello/cello_C3_1_fortissimo_arco-normal.mp3</td>\n",
       "      <td>17762</td>\n",
       "      <td>cello_C3_1_fortissimo_arco-normal</td>\n",
       "      <td>cello</td>\n",
       "      <td>False</td>\n",
       "      <td>C</td>\n",
       "      <td>3.0</td>\n",
       "      <td>130.81</td>\n",
       "      <td>1</td>\n",
       "      <td>fortissimo</td>\n",
       "      <td>arco-normal</td>\n",
       "    </tr>\n",
       "  </tbody>\n",
       "</table>\n",
       "</div>"
      ],
      "text/plain": [
       "   Unnamed: 0                                               file   bytes  \\\n",
       "0           0  cello/cello_F2_phrase_mezzo-forte_arco-detache...  186722   \n",
       "1           1           cello/cello_As2_05_forte_arco-normal.mp3   12119   \n",
       "2           2       cello/cello_F5_15_fortissimo_arco-normal.mp3   23091   \n",
       "3           3      cello/cello_D5_025_pianissimo_arco-normal.mp3    7732   \n",
       "4           4        cello/cello_C3_1_fortissimo_arco-normal.mp3   17762   \n",
       "\n",
       "                                       name instrument  percussion note  \\\n",
       "0  cello_F2_phrase_mezzo-forte_arco-detache      cello       False    F   \n",
       "1            cello_As2_05_forte_arco-normal      cello       False   A#   \n",
       "2        cello_F5_15_fortissimo_arco-normal      cello       False    F   \n",
       "3       cello_D5_025_pianissimo_arco-normal      cello       False    D   \n",
       "4         cello_C3_1_fortissimo_arco-normal      cello       False    C   \n",
       "\n",
       "   octave   pitch  length      dynamic         style  \n",
       "0     2.0   87.31  phrase  mezzo-forte  arco-detache  \n",
       "1     2.0  116.54      05        forte   arco-normal  \n",
       "2     5.0  698.46      15   fortissimo   arco-normal  \n",
       "3     5.0  587.33     025   pianissimo   arco-normal  \n",
       "4     3.0  130.81       1   fortissimo   arco-normal  "
      ]
     },
     "execution_count": 4,
     "metadata": {},
     "output_type": "execute_result"
    }
   ],
   "source": [
    "data = dataframe()\n",
    "\n",
    "data.head()"
   ]
  },
  {
   "cell_type": "markdown",
   "metadata": {},
   "source": [
    "## Plot sound sample"
   ]
  },
  {
   "cell_type": "code",
   "execution_count": 5,
   "metadata": {},
   "outputs": [
    {
     "data": {
      "text/html": [
       "\n",
       "                <audio  controls=\"controls\" >\n",
       "                    <source src=\"data:audio/wav;base64,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\" type=\"audio/wav\" />\n",
       "                    Your browser does not support the audio element.\n",
       "                </audio>\n",
       "              "
      ],
      "text/plain": [
       "<IPython.lib.display.Audio object>"
      ]
     },
     "execution_count": 5,
     "metadata": {},
     "output_type": "execute_result"
    },
    {
     "data": {
      "image/png": "[encoded data removed]",
      "text/plain": [
       "<Figure size 640x480 with 1 Axes>"
      ]
     },
     "metadata": {},
     "output_type": "display_data"
    }
   ],
   "source": [
    "samples = data[(data.percussion == True) & (data.bytes > 1024)]\n",
    "sample = samples[samples.bytes == samples.bytes.min()].iloc[0]\n",
    "\n",
    "x, sr = librosa.load(datafile(sample.file), sr=None, mono=True)\n",
    "t = librosa.samples_to_time(range(x.size), sr=sr) * 1e3\n",
    "\n",
    "plot.plot(t, x);\n",
    "plot.xlabel('ms');\n",
    "plot.ylim(-1, +1);\n",
    "\n",
    "display.Audio(x, rate=sr)"
   ]
  },
  {
   "cell_type": "markdown",
   "metadata": {},
   "source": [
    "## Query instruments"
   ]
  },
  {
   "cell_type": "code",
   "execution_count": 6,
   "metadata": {},
   "outputs": [
    {
     "data": {
      "text/html": [
       "<div>\n",
       "<style scoped>\n",
       "    .dataframe tbody tr th:only-of-type {\n",
       "        vertical-align: middle;\n",
       "    }\n",
       "\n",
       "    .dataframe tbody tr th {\n",
       "        vertical-align: top;\n",
       "    }\n",
       "\n",
       "    .dataframe thead th {\n",
       "        text-align: right;\n",
       "    }\n",
       "</style>\n",
       "<table border=\"1\" class=\"dataframe\">\n",
       "  <thead>\n",
       "    <tr style=\"text-align: right;\">\n",
       "      <th></th>\n",
       "      <th>instrument</th>\n",
       "    </tr>\n",
       "  </thead>\n",
       "  <tbody>\n",
       "    <tr>\n",
       "      <th>1854</th>\n",
       "      <td>banjo</td>\n",
       "    </tr>\n",
       "    <tr>\n",
       "      <th>1171</th>\n",
       "      <td>bass-clarinet</td>\n",
       "    </tr>\n",
       "    <tr>\n",
       "      <th>4476</th>\n",
       "      <td>bassoon</td>\n",
       "    </tr>\n",
       "    <tr>\n",
       "      <th>0</th>\n",
       "      <td>cello</td>\n",
       "    </tr>\n",
       "    <tr>\n",
       "      <th>5267</th>\n",
       "      <td>clarinet</td>\n",
       "    </tr>\n",
       "    <tr>\n",
       "      <th>8069</th>\n",
       "      <td>contrabassoon</td>\n",
       "    </tr>\n",
       "    <tr>\n",
       "      <th>7280</th>\n",
       "      <td>double-bass</td>\n",
       "    </tr>\n",
       "    <tr>\n",
       "      <th>9688</th>\n",
       "      <td>english-horn</td>\n",
       "    </tr>\n",
       "    <tr>\n",
       "      <th>13392</th>\n",
       "      <td>flute</td>\n",
       "    </tr>\n",
       "    <tr>\n",
       "      <th>11180</th>\n",
       "      <td>french-horn</td>\n",
       "    </tr>\n",
       "    <tr>\n",
       "      <th>6973</th>\n",
       "      <td>guitar</td>\n",
       "    </tr>\n",
       "    <tr>\n",
       "      <th>9498</th>\n",
       "      <td>mandolin</td>\n",
       "    </tr>\n",
       "    <tr>\n",
       "      <th>5917</th>\n",
       "      <td>oboe</td>\n",
       "    </tr>\n",
       "    <tr>\n",
       "      <th>8717</th>\n",
       "      <td>saxophone</td>\n",
       "    </tr>\n",
       "    <tr>\n",
       "      <th>3426</th>\n",
       "      <td>trombone</td>\n",
       "    </tr>\n",
       "    <tr>\n",
       "      <th>6604</th>\n",
       "      <td>trumpet</td>\n",
       "    </tr>\n",
       "    <tr>\n",
       "      <th>10864</th>\n",
       "      <td>tuba</td>\n",
       "    </tr>\n",
       "    <tr>\n",
       "      <th>12254</th>\n",
       "      <td>viola</td>\n",
       "    </tr>\n",
       "    <tr>\n",
       "      <th>2404</th>\n",
       "      <td>violin</td>\n",
       "    </tr>\n",
       "  </tbody>\n",
       "</table>\n",
       "</div>"
      ],
      "text/plain": [
       "          instrument\n",
       "1854           banjo\n",
       "1171   bass-clarinet\n",
       "4476         bassoon\n",
       "0              cello\n",
       "5267        clarinet\n",
       "8069   contrabassoon\n",
       "7280     double-bass\n",
       "9688    english-horn\n",
       "13392          flute\n",
       "11180    french-horn\n",
       "6973          guitar\n",
       "9498        mandolin\n",
       "5917            oboe\n",
       "8717       saxophone\n",
       "3426        trombone\n",
       "6604         trumpet\n",
       "10864           tuba\n",
       "12254          viola\n",
       "2404          violin"
      ]
     },
     "execution_count": 6,
     "metadata": {},
     "output_type": "execute_result"
    }
   ],
   "source": [
    "data.query(\"percussion==False\").filter(['instrument']).sort_values(['instrument']).drop_duplicates()"
   ]
  }
 ],
 "metadata": {
  "interpreter": {
   "hash": "359a818ebe30b944b08e4013cedc2501d62cffa40668aaf5da2cc7d9c37b7064"
  },
  "kernelspec": {
   "display_name": "Python 3.9.13",
   "language": "python",
   "name": "python3"
  },
  "language_info": {
   "codemirror_mode": {
    "name": "ipython",
    "version": 3
   },
   "file_extension": ".py",
   "mimetype": "text/x-python",
   "name": "python",
   "nbconvert_exporter": "python",
   "pygments_lexer": "ipython3",
   "version": "3.9.13"
  },
  "orig_nbformat": 4
 },
 "nbformat": 4,
 "nbformat_minor": 2
}
