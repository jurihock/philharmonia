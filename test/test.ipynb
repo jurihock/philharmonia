{
 "cells": [
  {
   "cell_type": "code",
   "execution_count": 1,
   "metadata": {},
   "outputs": [],
   "source": [
    "import sys\n",
    "sys.path.append('..')"
   ]
  },
  {
   "cell_type": "code",
   "execution_count": 2,
   "metadata": {},
   "outputs": [
    {
     "name": "stdout",
     "output_type": "stream",
     "text": [
      "       Unnamed: 0                                               file  \\\n",
      "0               0  cello/cello_F2_phrase_mezzo-forte_arco-detache...   \n",
      "1               1           cello/cello_As2_05_forte_arco-normal.mp3   \n",
      "2               2       cello/cello_F5_15_fortissimo_arco-normal.mp3   \n",
      "3               3      cello/cello_D5_025_pianissimo_arco-normal.mp3   \n",
      "4               4        cello/cello_C3_1_fortissimo_arco-normal.mp3   \n",
      "...           ...                                                ...   \n",
      "13678       13678                flute/flute_B4_025_forte_normal.mp3   \n",
      "13679       13679                flute/flute_As5_05_piano_normal.mp3   \n",
      "13680       13680       flute/flute_D5_phrase_mezzo-forte_legato.mp3   \n",
      "13681       13681            flute/flute_B4_15_pianissimo_normal.mp3   \n",
      "13682       13682   flute/flute_Ds5_long_mezzo-forte_major-trill.mp3   \n",
      "\n",
      "                                           name instrument  percussion note  \\\n",
      "0      cello_F2_phrase_mezzo-forte_arco-detache      cello       False    F   \n",
      "1                cello_As2_05_forte_arco-normal      cello       False   A#   \n",
      "2            cello_F5_15_fortissimo_arco-normal      cello       False    F   \n",
      "3           cello_D5_025_pianissimo_arco-normal      cello       False    D   \n",
      "4             cello_C3_1_fortissimo_arco-normal      cello       False    C   \n",
      "...                                         ...        ...         ...  ...   \n",
      "13678                 flute_B4_025_forte_normal      flute       False    B   \n",
      "13679                 flute_As5_05_piano_normal      flute       False   A#   \n",
      "13680        flute_D5_phrase_mezzo-forte_legato      flute       False    D   \n",
      "13681             flute_B4_15_pianissimo_normal      flute       False    B   \n",
      "13682    flute_Ds5_long_mezzo-forte_major-trill      flute       False   D#   \n",
      "\n",
      "       octave   pitch  length      dynamic         style  \n",
      "0         1.0   43.95  phrase  mezzo-forte  arco-detache  \n",
      "1         1.0   58.67      05        forte   arco-normal  \n",
      "2         4.0  351.61      15   fortissimo   arco-normal  \n",
      "3         4.0  295.67     025   pianissimo   arco-normal  \n",
      "4         2.0   65.85       1   fortissimo   arco-normal  \n",
      "...       ...     ...     ...          ...           ...  \n",
      "13678     3.0  248.63     025        forte        normal  \n",
      "13679     4.0  469.34      05        piano        normal  \n",
      "13680     4.0  295.67  phrase  mezzo-forte        legato  \n",
      "13681     3.0  248.63      15   pianissimo        normal  \n",
      "13682     4.0  313.25    long  mezzo-forte   major-trill  \n",
      "\n",
      "[13683 rows x 11 columns]\n"
     ]
    }
   ],
   "source": [
    "from philharmonia import dataset\n",
    "data = dataset()\n",
    "print(data)"
   ]
  }
 ],
 "metadata": {
  "interpreter": {
   "hash": "359a818ebe30b944b08e4013cedc2501d62cffa40668aaf5da2cc7d9c37b7064"
  },
  "kernelspec": {
   "display_name": "Python 3.9.13",
   "language": "python",
   "name": "python3"
  },
  "language_info": {
   "codemirror_mode": {
    "name": "ipython",
    "version": 3
   },
   "file_extension": ".py",
   "mimetype": "text/x-python",
   "name": "python",
   "nbconvert_exporter": "python",
   "pygments_lexer": "ipython3",
   "version": "3.9.13"
  },
  "orig_nbformat": 4
 },
 "nbformat": 4,
 "nbformat_minor": 2
}
